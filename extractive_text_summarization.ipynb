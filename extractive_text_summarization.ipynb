{
  "nbformat": 4,
  "nbformat_minor": 0,
  "metadata": {
    "colab": {
      "provenance": [],
      "authorship_tag": "ABX9TyObF+qQ45uEBr3FfBy5rveK",
      "include_colab_link": true
    },
    "kernelspec": {
      "name": "python3",
      "display_name": "Python 3"
    },
    "language_info": {
      "name": "python"
    }
  },
  "cells": [
    {
      "cell_type": "markdown",
      "metadata": {
        "id": "view-in-github",
        "colab_type": "text"
      },
      "source": [
        "<a href=\"https://colab.research.google.com/github/dhivya1010/extractive-test-summarization/blob/main/extractive_text_summarization.ipynb\" target=\"_parent\"><img src=\"https://colab.research.google.com/assets/colab-badge.svg\" alt=\"Open In Colab\"/></a>"
      ]
    },
    {
      "cell_type": "code",
      "source": [
        "text=\"Once upon a time, in a faraway land, there was a beautiful and pious girl named Cinderella. She was the only child of a wealthy man and his beloved wife. Sadly, Cinderella's mother fell ill and passed away, leaving her daughter with words of wisdom and love: “Dear child, be good and pious, and then the good God will always protect thee, and I will look down on thee from heaven and be near thee.” Cinderella was heartbroken by her mother's death, but she remained faithful to her mother's words and visited her grave every day to pray and weep.\"\n"
      ],
      "metadata": {
        "id": "ekVyrztPOkXl"
      },
      "execution_count": null,
      "outputs": []
    },
    {
      "cell_type": "code",
      "source": [
        "len(text)"
      ],
      "metadata": {
        "colab": {
          "base_uri": "https://localhost:8080/"
        },
        "id": "GOtEoy4rPBUb",
        "outputId": "018384cd-5593-4813-e7d1-86142ece1c3d"
      },
      "execution_count": null,
      "outputs": [
        {
          "output_type": "execute_result",
          "data": {
            "text/plain": [
              "545"
            ]
          },
          "metadata": {},
          "execution_count": 5
        }
      ]
    },
    {
      "cell_type": "code",
      "source": [
        "## libaries for text cleaning\n",
        "import spacy\n",
        "from spacy.lang.en.stop_words import STOP_WORDS\n",
        "from string import punctuation"
      ],
      "metadata": {
        "id": "V6POM0B7PDzd"
      },
      "execution_count": null,
      "outputs": []
    },
    {
      "cell_type": "code",
      "source": [
        "nlp = spacy.load('en_core_web_sm')"
      ],
      "metadata": {
        "id": "38yVcRXtPZ2t"
      },
      "execution_count": null,
      "outputs": []
    },
    {
      "cell_type": "code",
      "source": [
        "doc = nlp(text)"
      ],
      "metadata": {
        "id": "aUwsr470P1rB"
      },
      "execution_count": null,
      "outputs": []
    },
    {
      "cell_type": "code",
      "source": [
        "tokens = [token.text.lower() for token in doc\n",
        "          if not token.is_stop and\n",
        "          not token.is_punct and\n",
        "          token.text !='\\n']"
      ],
      "metadata": {
        "id": "VqzyuaxVQCZw"
      },
      "execution_count": null,
      "outputs": []
    },
    {
      "cell_type": "code",
      "source": [
        "tokens"
      ],
      "metadata": {
        "colab": {
          "base_uri": "https://localhost:8080/"
        },
        "id": "_jI0PjHNQ1lz",
        "outputId": "153b58c1-bee3-4450-de2d-aa47d2ebd838"
      },
      "execution_count": null,
      "outputs": [
        {
          "output_type": "execute_result",
          "data": {
            "text/plain": [
              "['time',\n",
              " 'faraway',\n",
              " 'land',\n",
              " 'beautiful',\n",
              " 'pious',\n",
              " 'girl',\n",
              " 'named',\n",
              " 'cinderella',\n",
              " 'child',\n",
              " 'wealthy',\n",
              " 'man',\n",
              " 'beloved',\n",
              " 'wife',\n",
              " 'sadly',\n",
              " 'cinderella',\n",
              " 'mother',\n",
              " 'fell',\n",
              " 'ill',\n",
              " 'passed',\n",
              " 'away',\n",
              " 'leaving',\n",
              " 'daughter',\n",
              " 'words',\n",
              " 'wisdom',\n",
              " 'love',\n",
              " 'dear',\n",
              " 'child',\n",
              " 'good',\n",
              " 'pious',\n",
              " 'good',\n",
              " 'god',\n",
              " 'protect',\n",
              " 'thee',\n",
              " 'look',\n",
              " 'thee',\n",
              " 'heaven',\n",
              " 'near',\n",
              " 'thee',\n",
              " 'cinderella',\n",
              " 'heartbroken',\n",
              " 'mother',\n",
              " 'death',\n",
              " 'remained',\n",
              " 'faithful',\n",
              " 'mother',\n",
              " 'words',\n",
              " 'visited',\n",
              " 'grave',\n",
              " 'day',\n",
              " 'pray',\n",
              " 'weep']"
            ]
          },
          "metadata": {},
          "execution_count": 11
        }
      ]
    },
    {
      "cell_type": "code",
      "source": [
        "from collections import Counter"
      ],
      "metadata": {
        "id": "ZZewx4HURHGl"
      },
      "execution_count": null,
      "outputs": []
    },
    {
      "cell_type": "code",
      "source": [
        "## counting the word from the text\n",
        "word_occurance=Counter(tokens)"
      ],
      "metadata": {
        "id": "MZ33njFzVcps"
      },
      "execution_count": null,
      "outputs": []
    },
    {
      "cell_type": "code",
      "source": [
        "word_occurance"
      ],
      "metadata": {
        "colab": {
          "base_uri": "https://localhost:8080/"
        },
        "id": "Ri6xJkXeVnRR",
        "outputId": "f5460aca-2616-4de3-a5fd-d160297ea4e2"
      },
      "execution_count": null,
      "outputs": [
        {
          "output_type": "execute_result",
          "data": {
            "text/plain": [
              "Counter({'time': 1,\n",
              "         'faraway': 1,\n",
              "         'land': 1,\n",
              "         'beautiful': 1,\n",
              "         'pious': 2,\n",
              "         'girl': 1,\n",
              "         'named': 1,\n",
              "         'cinderella': 3,\n",
              "         'child': 2,\n",
              "         'wealthy': 1,\n",
              "         'man': 1,\n",
              "         'beloved': 1,\n",
              "         'wife': 1,\n",
              "         'sadly': 1,\n",
              "         'mother': 3,\n",
              "         'fell': 1,\n",
              "         'ill': 1,\n",
              "         'passed': 1,\n",
              "         'away': 1,\n",
              "         'leaving': 1,\n",
              "         'daughter': 1,\n",
              "         'words': 2,\n",
              "         'wisdom': 1,\n",
              "         'love': 1,\n",
              "         'dear': 1,\n",
              "         'good': 2,\n",
              "         'god': 1,\n",
              "         'protect': 1,\n",
              "         'thee': 3,\n",
              "         'look': 1,\n",
              "         'heaven': 1,\n",
              "         'near': 1,\n",
              "         'heartbroken': 1,\n",
              "         'death': 1,\n",
              "         'remained': 1,\n",
              "         'faithful': 1,\n",
              "         'visited': 1,\n",
              "         'grave': 1,\n",
              "         'day': 1,\n",
              "         'pray': 1,\n",
              "         'weep': 1})"
            ]
          },
          "metadata": {},
          "execution_count": 16
        }
      ]
    },
    {
      "cell_type": "code",
      "source": [
        "## check the maximum occurance value of the word\n",
        "max_freq = max(word_occurance.values())"
      ],
      "metadata": {
        "id": "vmAiIhqZWPUe"
      },
      "execution_count": null,
      "outputs": []
    },
    {
      "cell_type": "code",
      "source": [
        "max_freq"
      ],
      "metadata": {
        "colab": {
          "base_uri": "https://localhost:8080/"
        },
        "id": "oz6U93OaWyN7",
        "outputId": "d5143e2f-e558-41be-effe-9f0821c28018"
      },
      "execution_count": null,
      "outputs": [
        {
          "output_type": "execute_result",
          "data": {
            "text/plain": [
              "3"
            ]
          },
          "metadata": {},
          "execution_count": 18
        }
      ]
    },
    {
      "cell_type": "code",
      "source": [
        "for word in word_occurance.keys():\n",
        "  word_occurance[word] = word_occurance[word]/max_freq"
      ],
      "metadata": {
        "id": "yPI3FLzQW0J2"
      },
      "execution_count": null,
      "outputs": []
    },
    {
      "cell_type": "code",
      "source": [
        "word_occurance"
      ],
      "metadata": {
        "colab": {
          "base_uri": "https://localhost:8080/"
        },
        "id": "ABVEUfA3XYu5",
        "outputId": "dcada577-6e94-4310-c04d-0178b875e674"
      },
      "execution_count": null,
      "outputs": [
        {
          "output_type": "execute_result",
          "data": {
            "text/plain": [
              "Counter({'time': 0.3333333333333333,\n",
              "         'faraway': 0.3333333333333333,\n",
              "         'land': 0.3333333333333333,\n",
              "         'beautiful': 0.3333333333333333,\n",
              "         'pious': 0.6666666666666666,\n",
              "         'girl': 0.3333333333333333,\n",
              "         'named': 0.3333333333333333,\n",
              "         'cinderella': 1.0,\n",
              "         'child': 0.6666666666666666,\n",
              "         'wealthy': 0.3333333333333333,\n",
              "         'man': 0.3333333333333333,\n",
              "         'beloved': 0.3333333333333333,\n",
              "         'wife': 0.3333333333333333,\n",
              "         'sadly': 0.3333333333333333,\n",
              "         'mother': 1.0,\n",
              "         'fell': 0.3333333333333333,\n",
              "         'ill': 0.3333333333333333,\n",
              "         'passed': 0.3333333333333333,\n",
              "         'away': 0.3333333333333333,\n",
              "         'leaving': 0.3333333333333333,\n",
              "         'daughter': 0.3333333333333333,\n",
              "         'words': 0.6666666666666666,\n",
              "         'wisdom': 0.3333333333333333,\n",
              "         'love': 0.3333333333333333,\n",
              "         'dear': 0.3333333333333333,\n",
              "         'good': 0.6666666666666666,\n",
              "         'god': 0.3333333333333333,\n",
              "         'protect': 0.3333333333333333,\n",
              "         'thee': 1.0,\n",
              "         'look': 0.3333333333333333,\n",
              "         'heaven': 0.3333333333333333,\n",
              "         'near': 0.3333333333333333,\n",
              "         'heartbroken': 0.3333333333333333,\n",
              "         'death': 0.3333333333333333,\n",
              "         'remained': 0.3333333333333333,\n",
              "         'faithful': 0.3333333333333333,\n",
              "         'visited': 0.3333333333333333,\n",
              "         'grave': 0.3333333333333333,\n",
              "         'day': 0.3333333333333333,\n",
              "         'pray': 0.3333333333333333,\n",
              "         'weep': 0.3333333333333333})"
            ]
          },
          "metadata": {},
          "execution_count": 20
        }
      ]
    },
    {
      "cell_type": "code",
      "source": [
        "sent_token = [sent.text for sent in doc.sents]"
      ],
      "metadata": {
        "id": "7lYzb0sDXdv6"
      },
      "execution_count": null,
      "outputs": []
    },
    {
      "cell_type": "code",
      "source": [
        "sent_token"
      ],
      "metadata": {
        "colab": {
          "base_uri": "https://localhost:8080/"
        },
        "id": "PsVYwirnYsi4",
        "outputId": "f0940a18-9539-49c6-db8e-72eb3dbfb868"
      },
      "execution_count": null,
      "outputs": [
        {
          "output_type": "execute_result",
          "data": {
            "text/plain": [
              "['Once upon a time, in a faraway land, there was a beautiful and pious girl named Cinderella.',\n",
              " 'She was the only child of a wealthy man and his beloved wife.',\n",
              " \"Sadly, Cinderella's mother fell ill and passed away, leaving her daughter with words of wisdom and love: “Dear child, be good and pious, and then the good God will always protect thee, and I will look down on thee from heaven and be near thee.\",\n",
              " \"Cinderella was heartbroken by her mother's death, but she remained faithful to her mother's words and visited her grave every day to pray and weep.\"]"
            ]
          },
          "metadata": {},
          "execution_count": 22
        }
      ]
    },
    {
      "cell_type": "code",
      "source": [
        "## test the word's score\n",
        "sent_score = {}\n",
        "for sent in sent_token:\n",
        "  for word in sent.split():\n",
        "    if word.lower() in word_occurance.keys():\n",
        "      if sent not in sent_score.keys():\n",
        "        sent_score[sent] = word_occurance[word]\n",
        "      else:\n",
        "        sent_score[sent] +=word_occurance[word]\n",
        "    print(word)"
      ],
      "metadata": {
        "colab": {
          "base_uri": "https://localhost:8080/"
        },
        "id": "YYMCZATHY8An",
        "outputId": "ea2d5965-f9ee-49d1-9711-ac600982e03d"
      },
      "execution_count": null,
      "outputs": [
        {
          "output_type": "stream",
          "name": "stdout",
          "text": [
            "Once\n",
            "upon\n",
            "a\n",
            "time,\n",
            "in\n",
            "a\n",
            "faraway\n",
            "land,\n",
            "there\n",
            "was\n",
            "a\n",
            "beautiful\n",
            "and\n",
            "pious\n",
            "girl\n",
            "named\n",
            "Cinderella.\n",
            "She\n",
            "was\n",
            "the\n",
            "only\n",
            "child\n",
            "of\n",
            "a\n",
            "wealthy\n",
            "man\n",
            "and\n",
            "his\n",
            "beloved\n",
            "wife.\n",
            "Sadly,\n",
            "Cinderella's\n",
            "mother\n",
            "fell\n",
            "ill\n",
            "and\n",
            "passed\n",
            "away,\n",
            "leaving\n",
            "her\n",
            "daughter\n",
            "with\n",
            "words\n",
            "of\n",
            "wisdom\n",
            "and\n",
            "love:\n",
            "“Dear\n",
            "child,\n",
            "be\n",
            "good\n",
            "and\n",
            "pious,\n",
            "and\n",
            "then\n",
            "the\n",
            "good\n",
            "God\n",
            "will\n",
            "always\n",
            "protect\n",
            "thee,\n",
            "and\n",
            "I\n",
            "will\n",
            "look\n",
            "down\n",
            "on\n",
            "thee\n",
            "from\n",
            "heaven\n",
            "and\n",
            "be\n",
            "near\n",
            "thee.\n",
            "Cinderella\n",
            "was\n",
            "heartbroken\n",
            "by\n",
            "her\n",
            "mother's\n",
            "death,\n",
            "but\n",
            "she\n",
            "remained\n",
            "faithful\n",
            "to\n",
            "her\n",
            "mother's\n",
            "words\n",
            "and\n",
            "visited\n",
            "her\n",
            "grave\n",
            "every\n",
            "day\n",
            "to\n",
            "pray\n",
            "and\n",
            "weep.\n"
          ]
        }
      ]
    },
    {
      "cell_type": "code",
      "source": [
        "sent_score"
      ],
      "metadata": {
        "colab": {
          "base_uri": "https://localhost:8080/"
        },
        "id": "vQUo9mdccS72",
        "outputId": "40c79d3d-2e38-4b6e-a3de-68d8ebec7b7c"
      },
      "execution_count": null,
      "outputs": [
        {
          "output_type": "execute_result",
          "data": {
            "text/plain": [
              "{'Once upon a time, in a faraway land, there was a beautiful and pious girl named Cinderella.': 1.9999999999999998,\n",
              " 'She was the only child of a wealthy man and his beloved wife.': 1.6666666666666665,\n",
              " \"Sadly, Cinderella's mother fell ill and passed away, leaving her daughter with words of wisdom and love: “Dear child, be good and pious, and then the good God will always protect thee, and I will look down on thee from heaven and be near thee.\": 7.333333333333332,\n",
              " \"Cinderella was heartbroken by her mother's death, but she remained faithful to her mother's words and visited her grave every day to pray and weep.\": 3.0}"
            ]
          },
          "metadata": {},
          "execution_count": 24
        }
      ]
    },
    {
      "cell_type": "code",
      "source": [
        "import pandas as pd"
      ],
      "metadata": {
        "id": "lWJa6JVwccJB"
      },
      "execution_count": null,
      "outputs": []
    },
    {
      "cell_type": "code",
      "source": [
        "pd.DataFrame(list(sent_score.items()),columns=['sentence','score'])"
      ],
      "metadata": {
        "colab": {
          "base_uri": "https://localhost:8080/",
          "height": 175
        },
        "id": "ryAQwX7Tcqor",
        "outputId": "89958ae0-34fb-4138-8d54-5baa0c2e475d"
      },
      "execution_count": null,
      "outputs": [
        {
          "output_type": "execute_result",
          "data": {
            "text/plain": [
              "                                            sentence     score\n",
              "0  Once upon a time, in a faraway land, there was...  2.000000\n",
              "1  She was the only child of a wealthy man and hi...  1.666667\n",
              "2  Sadly, Cinderella's mother fell ill and passed...  7.333333\n",
              "3  Cinderella was heartbroken by her mother's dea...  3.000000"
            ],
            "text/html": [
              "\n",
              "  <div id=\"df-df297138-b9d9-4e6a-bd3e-a2a0a11122ba\" class=\"colab-df-container\">\n",
              "    <div>\n",
              "<style scoped>\n",
              "    .dataframe tbody tr th:only-of-type {\n",
              "        vertical-align: middle;\n",
              "    }\n",
              "\n",
              "    .dataframe tbody tr th {\n",
              "        vertical-align: top;\n",
              "    }\n",
              "\n",
              "    .dataframe thead th {\n",
              "        text-align: right;\n",
              "    }\n",
              "</style>\n",
              "<table border=\"1\" class=\"dataframe\">\n",
              "  <thead>\n",
              "    <tr style=\"text-align: right;\">\n",
              "      <th></th>\n",
              "      <th>sentence</th>\n",
              "      <th>score</th>\n",
              "    </tr>\n",
              "  </thead>\n",
              "  <tbody>\n",
              "    <tr>\n",
              "      <th>0</th>\n",
              "      <td>Once upon a time, in a faraway land, there was...</td>\n",
              "      <td>2.000000</td>\n",
              "    </tr>\n",
              "    <tr>\n",
              "      <th>1</th>\n",
              "      <td>She was the only child of a wealthy man and hi...</td>\n",
              "      <td>1.666667</td>\n",
              "    </tr>\n",
              "    <tr>\n",
              "      <th>2</th>\n",
              "      <td>Sadly, Cinderella's mother fell ill and passed...</td>\n",
              "      <td>7.333333</td>\n",
              "    </tr>\n",
              "    <tr>\n",
              "      <th>3</th>\n",
              "      <td>Cinderella was heartbroken by her mother's dea...</td>\n",
              "      <td>3.000000</td>\n",
              "    </tr>\n",
              "  </tbody>\n",
              "</table>\n",
              "</div>\n",
              "    <div class=\"colab-df-buttons\">\n",
              "\n",
              "  <div class=\"colab-df-container\">\n",
              "    <button class=\"colab-df-convert\" onclick=\"convertToInteractive('df-df297138-b9d9-4e6a-bd3e-a2a0a11122ba')\"\n",
              "            title=\"Convert this dataframe to an interactive table.\"\n",
              "            style=\"display:none;\">\n",
              "\n",
              "  <svg xmlns=\"http://www.w3.org/2000/svg\" height=\"24px\" viewBox=\"0 -960 960 960\">\n",
              "    <path d=\"M120-120v-720h720v720H120Zm60-500h600v-160H180v160Zm220 220h160v-160H400v160Zm0 220h160v-160H400v160ZM180-400h160v-160H180v160Zm440 0h160v-160H620v160ZM180-180h160v-160H180v160Zm440 0h160v-160H620v160Z\"/>\n",
              "  </svg>\n",
              "    </button>\n",
              "\n",
              "  <style>\n",
              "    .colab-df-container {\n",
              "      display:flex;\n",
              "      gap: 12px;\n",
              "    }\n",
              "\n",
              "    .colab-df-convert {\n",
              "      background-color: #E8F0FE;\n",
              "      border: none;\n",
              "      border-radius: 50%;\n",
              "      cursor: pointer;\n",
              "      display: none;\n",
              "      fill: #1967D2;\n",
              "      height: 32px;\n",
              "      padding: 0 0 0 0;\n",
              "      width: 32px;\n",
              "    }\n",
              "\n",
              "    .colab-df-convert:hover {\n",
              "      background-color: #E2EBFA;\n",
              "      box-shadow: 0px 1px 2px rgba(60, 64, 67, 0.3), 0px 1px 3px 1px rgba(60, 64, 67, 0.15);\n",
              "      fill: #174EA6;\n",
              "    }\n",
              "\n",
              "    .colab-df-buttons div {\n",
              "      margin-bottom: 4px;\n",
              "    }\n",
              "\n",
              "    [theme=dark] .colab-df-convert {\n",
              "      background-color: #3B4455;\n",
              "      fill: #D2E3FC;\n",
              "    }\n",
              "\n",
              "    [theme=dark] .colab-df-convert:hover {\n",
              "      background-color: #434B5C;\n",
              "      box-shadow: 0px 1px 3px 1px rgba(0, 0, 0, 0.15);\n",
              "      filter: drop-shadow(0px 1px 2px rgba(0, 0, 0, 0.3));\n",
              "      fill: #FFFFFF;\n",
              "    }\n",
              "  </style>\n",
              "\n",
              "    <script>\n",
              "      const buttonEl =\n",
              "        document.querySelector('#df-df297138-b9d9-4e6a-bd3e-a2a0a11122ba button.colab-df-convert');\n",
              "      buttonEl.style.display =\n",
              "        google.colab.kernel.accessAllowed ? 'block' : 'none';\n",
              "\n",
              "      async function convertToInteractive(key) {\n",
              "        const element = document.querySelector('#df-df297138-b9d9-4e6a-bd3e-a2a0a11122ba');\n",
              "        const dataTable =\n",
              "          await google.colab.kernel.invokeFunction('convertToInteractive',\n",
              "                                                    [key], {});\n",
              "        if (!dataTable) return;\n",
              "\n",
              "        const docLinkHtml = 'Like what you see? Visit the ' +\n",
              "          '<a target=\"_blank\" href=https://colab.research.google.com/notebooks/data_table.ipynb>data table notebook</a>'\n",
              "          + ' to learn more about interactive tables.';\n",
              "        element.innerHTML = '';\n",
              "        dataTable['output_type'] = 'display_data';\n",
              "        await google.colab.output.renderOutput(dataTable, element);\n",
              "        const docLink = document.createElement('div');\n",
              "        docLink.innerHTML = docLinkHtml;\n",
              "        element.appendChild(docLink);\n",
              "      }\n",
              "    </script>\n",
              "  </div>\n",
              "\n",
              "\n",
              "<div id=\"df-efd3f717-ac66-4eae-bfe8-402819eb5cce\">\n",
              "  <button class=\"colab-df-quickchart\" onclick=\"quickchart('df-efd3f717-ac66-4eae-bfe8-402819eb5cce')\"\n",
              "            title=\"Suggest charts\"\n",
              "            style=\"display:none;\">\n",
              "\n",
              "<svg xmlns=\"http://www.w3.org/2000/svg\" height=\"24px\"viewBox=\"0 0 24 24\"\n",
              "     width=\"24px\">\n",
              "    <g>\n",
              "        <path d=\"M19 3H5c-1.1 0-2 .9-2 2v14c0 1.1.9 2 2 2h14c1.1 0 2-.9 2-2V5c0-1.1-.9-2-2-2zM9 17H7v-7h2v7zm4 0h-2V7h2v10zm4 0h-2v-4h2v4z\"/>\n",
              "    </g>\n",
              "</svg>\n",
              "  </button>\n",
              "\n",
              "<style>\n",
              "  .colab-df-quickchart {\n",
              "      --bg-color: #E8F0FE;\n",
              "      --fill-color: #1967D2;\n",
              "      --hover-bg-color: #E2EBFA;\n",
              "      --hover-fill-color: #174EA6;\n",
              "      --disabled-fill-color: #AAA;\n",
              "      --disabled-bg-color: #DDD;\n",
              "  }\n",
              "\n",
              "  [theme=dark] .colab-df-quickchart {\n",
              "      --bg-color: #3B4455;\n",
              "      --fill-color: #D2E3FC;\n",
              "      --hover-bg-color: #434B5C;\n",
              "      --hover-fill-color: #FFFFFF;\n",
              "      --disabled-bg-color: #3B4455;\n",
              "      --disabled-fill-color: #666;\n",
              "  }\n",
              "\n",
              "  .colab-df-quickchart {\n",
              "    background-color: var(--bg-color);\n",
              "    border: none;\n",
              "    border-radius: 50%;\n",
              "    cursor: pointer;\n",
              "    display: none;\n",
              "    fill: var(--fill-color);\n",
              "    height: 32px;\n",
              "    padding: 0;\n",
              "    width: 32px;\n",
              "  }\n",
              "\n",
              "  .colab-df-quickchart:hover {\n",
              "    background-color: var(--hover-bg-color);\n",
              "    box-shadow: 0 1px 2px rgba(60, 64, 67, 0.3), 0 1px 3px 1px rgba(60, 64, 67, 0.15);\n",
              "    fill: var(--button-hover-fill-color);\n",
              "  }\n",
              "\n",
              "  .colab-df-quickchart-complete:disabled,\n",
              "  .colab-df-quickchart-complete:disabled:hover {\n",
              "    background-color: var(--disabled-bg-color);\n",
              "    fill: var(--disabled-fill-color);\n",
              "    box-shadow: none;\n",
              "  }\n",
              "\n",
              "  .colab-df-spinner {\n",
              "    border: 2px solid var(--fill-color);\n",
              "    border-color: transparent;\n",
              "    border-bottom-color: var(--fill-color);\n",
              "    animation:\n",
              "      spin 1s steps(1) infinite;\n",
              "  }\n",
              "\n",
              "  @keyframes spin {\n",
              "    0% {\n",
              "      border-color: transparent;\n",
              "      border-bottom-color: var(--fill-color);\n",
              "      border-left-color: var(--fill-color);\n",
              "    }\n",
              "    20% {\n",
              "      border-color: transparent;\n",
              "      border-left-color: var(--fill-color);\n",
              "      border-top-color: var(--fill-color);\n",
              "    }\n",
              "    30% {\n",
              "      border-color: transparent;\n",
              "      border-left-color: var(--fill-color);\n",
              "      border-top-color: var(--fill-color);\n",
              "      border-right-color: var(--fill-color);\n",
              "    }\n",
              "    40% {\n",
              "      border-color: transparent;\n",
              "      border-right-color: var(--fill-color);\n",
              "      border-top-color: var(--fill-color);\n",
              "    }\n",
              "    60% {\n",
              "      border-color: transparent;\n",
              "      border-right-color: var(--fill-color);\n",
              "    }\n",
              "    80% {\n",
              "      border-color: transparent;\n",
              "      border-right-color: var(--fill-color);\n",
              "      border-bottom-color: var(--fill-color);\n",
              "    }\n",
              "    90% {\n",
              "      border-color: transparent;\n",
              "      border-bottom-color: var(--fill-color);\n",
              "    }\n",
              "  }\n",
              "</style>\n",
              "\n",
              "  <script>\n",
              "    async function quickchart(key) {\n",
              "      const quickchartButtonEl =\n",
              "        document.querySelector('#' + key + ' button');\n",
              "      quickchartButtonEl.disabled = true;  // To prevent multiple clicks.\n",
              "      quickchartButtonEl.classList.add('colab-df-spinner');\n",
              "      try {\n",
              "        const charts = await google.colab.kernel.invokeFunction(\n",
              "            'suggestCharts', [key], {});\n",
              "      } catch (error) {\n",
              "        console.error('Error during call to suggestCharts:', error);\n",
              "      }\n",
              "      quickchartButtonEl.classList.remove('colab-df-spinner');\n",
              "      quickchartButtonEl.classList.add('colab-df-quickchart-complete');\n",
              "    }\n",
              "    (() => {\n",
              "      let quickchartButtonEl =\n",
              "        document.querySelector('#df-efd3f717-ac66-4eae-bfe8-402819eb5cce button');\n",
              "      quickchartButtonEl.style.display =\n",
              "        google.colab.kernel.accessAllowed ? 'block' : 'none';\n",
              "    })();\n",
              "  </script>\n",
              "</div>\n",
              "\n",
              "    </div>\n",
              "  </div>\n"
            ],
            "application/vnd.google.colaboratory.intrinsic+json": {
              "type": "dataframe",
              "summary": "{\n  \"name\": \"pd\",\n  \"rows\": 4,\n  \"fields\": [\n    {\n      \"column\": \"sentence\",\n      \"properties\": {\n        \"dtype\": \"string\",\n        \"num_unique_values\": 4,\n        \"samples\": [\n          \"She was the only child of a wealthy man and his beloved wife.\",\n          \"Cinderella was heartbroken by her mother's death, but she remained faithful to her mother's words and visited her grave every day to pray and weep.\",\n          \"Once upon a time, in a faraway land, there was a beautiful and pious girl named Cinderella.\"\n        ],\n        \"semantic_type\": \"\",\n        \"description\": \"\"\n      }\n    },\n    {\n      \"column\": \"score\",\n      \"properties\": {\n        \"dtype\": \"number\",\n        \"std\": 2.6176042198643876,\n        \"min\": 1.6666666666666665,\n        \"max\": 7.333333333333332,\n        \"num_unique_values\": 4,\n        \"samples\": [\n          1.6666666666666665,\n          3.0,\n          1.9999999999999998\n        ],\n        \"semantic_type\": \"\",\n        \"description\": \"\"\n      }\n    }\n  ]\n}"
            }
          },
          "metadata": {},
          "execution_count": 26
        }
      ]
    },
    {
      "cell_type": "code",
      "source": [
        "## let's list the top 2 sentence based on score\n",
        "from heapq import nlargest\n",
        "num_sentences =2\n",
        "n=nlargest(num_sentences,sent_score,key=sent_score.get)"
      ],
      "metadata": {
        "id": "Df-D25jGc-qG"
      },
      "execution_count": null,
      "outputs": []
    },
    {
      "cell_type": "code",
      "source": [
        "n"
      ],
      "metadata": {
        "colab": {
          "base_uri": "https://localhost:8080/"
        },
        "id": "Al6pWx1aed-R",
        "outputId": "74ffc325-19af-4ef8-b94c-5c8cd688a0d1"
      },
      "execution_count": null,
      "outputs": [
        {
          "output_type": "execute_result",
          "data": {
            "text/plain": [
              "[\"Sadly, Cinderella's mother fell ill and passed away, leaving her daughter with words of wisdom and love: “Dear child, be good and pious, and then the good God will always protect thee, and I will look down on thee from heaven and be near thee.\",\n",
              " \"Cinderella was heartbroken by her mother's death, but she remained faithful to her mother's words and visited her grave every day to pray and weep.\"]"
            ]
          },
          "metadata": {},
          "execution_count": 29
        }
      ]
    },
    {
      "cell_type": "code",
      "source": [
        "\" \".join(n)"
      ],
      "metadata": {
        "colab": {
          "base_uri": "https://localhost:8080/",
          "height": 70
        },
        "id": "GGnZ165xd5yP",
        "outputId": "95f9c67c-3a16-409f-84ea-6b48b3c5db0b"
      },
      "execution_count": null,
      "outputs": [
        {
          "output_type": "execute_result",
          "data": {
            "text/plain": [
              "\"Sadly, Cinderella's mother fell ill and passed away, leaving her daughter with words of wisdom and love: “Dear child, be good and pious, and then the good God will always protect thee, and I will look down on thee from heaven and be near thee. Cinderella was heartbroken by her mother's death, but she remained faithful to her mother's words and visited her grave every day to pray and weep.\""
            ],
            "application/vnd.google.colaboratory.intrinsic+json": {
              "type": "string"
            }
          },
          "metadata": {},
          "execution_count": 30
        }
      ]
    },
    {
      "cell_type": "code",
      "source": [],
      "metadata": {
        "id": "KoRn_dfJehEt"
      },
      "execution_count": null,
      "outputs": []
    }
  ]
}